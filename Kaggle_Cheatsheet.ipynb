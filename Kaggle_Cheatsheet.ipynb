{
  "nbformat": 4,
  "nbformat_minor": 0,
  "metadata": {
    "colab": {
      "name": "Kaggle_Cheatsheet.ipynb",
      "version": "0.3.2",
      "provenance": [],
      "collapsed_sections": [],
      "include_colab_link": true
    },
    "kernelspec": {
      "name": "python3",
      "display_name": "Python 3"
    }
  },
  "cells": [
    {
      "cell_type": "markdown",
      "metadata": {
        "id": "view-in-github",
        "colab_type": "text"
      },
      "source": [
        "<a href=\"https://colab.research.google.com/github/madelinemccombe/LaunchDS/blob/master/Kaggle_Cheatsheet.ipynb\" target=\"_parent\"><img src=\"https://colab.research.google.com/assets/colab-badge.svg\" alt=\"Open In Colab\"/></a>"
      ]
    },
    {
      "cell_type": "markdown",
      "metadata": {
        "id": "dYl87tpLumBZ",
        "colab_type": "text"
      },
      "source": [
        "Things I wish I knew for Kaggle competitions"
      ]
    },
    {
      "cell_type": "code",
      "metadata": {
        "id": "zDlkAIhcuq7r",
        "colab_type": "code",
        "colab": {}
      },
      "source": [
        "# How to load a dataset in Kaggle\n",
        "train = pd.read_csv('../input/train.csv')\n"
      ],
      "execution_count": 0,
      "outputs": []
    },
    {
      "cell_type": "code",
      "metadata": {
        "id": "i70RtcstwDMZ",
        "colab_type": "code",
        "colab": {}
      },
      "source": [
        "# General packages to import\n",
        "import pandas as pd\n",
        "import numpy as np\n",
        "import matplotlib \n",
        "from matplotlib import pyplot as plt\n",
        "import sklearn\n",
        "import seaborn as sns\n",
        "import scipy as sp\n",
        "from scipy import stats"
      ],
      "execution_count": 0,
      "outputs": []
    },
    {
      "cell_type": "code",
      "metadata": {
        "id": "fJM5PoyPwJED",
        "colab_type": "code",
        "colab": {}
      },
      "source": [
        "# sns.catplot\n",
        "sns.catplot(y='id', x='y', data=train, kind='bar')\n",
        "plt.show()"
      ],
      "execution_count": 0,
      "outputs": []
    },
    {
      "cell_type": "code",
      "metadata": {
        "id": "e3TR_EVywM4r",
        "colab_type": "code",
        "colab": {}
      },
      "source": [
        "# 2 dist plots side by side (sns)\n",
        "fig, axes = plt.subplots(1, 2, figsize=(10, 2), sharey=False, dpi=100)\n",
        "sns.distplot(train['pdays'] , color=\"dodgerblue\", ax=axes[0], axlabel='Pdays')\n",
        "sns.distplot(train['previous'] , color=\"deeppink\", ax=axes[1], axlabel='Previous')"
      ],
      "execution_count": 0,
      "outputs": []
    },
    {
      "cell_type": "code",
      "metadata": {
        "id": "Qz-0zfY6uuvQ",
        "colab_type": "code",
        "colab": {}
      },
      "source": [
        "# How to drop a column of  a df\n",
        "train = train.drop(\"label\",axis=1)"
      ],
      "execution_count": 0,
      "outputs": []
    },
    {
      "cell_type": "code",
      "metadata": {
        "id": "CpugztFNx1s7",
        "colab_type": "code",
        "colab": {}
      },
      "source": [
        "# train/test split\n",
        "from sklearn.model_selection import train_test_split\n",
        "X_train, X_test, y_train, y_test = train_test_split(X, y, test_size=0.33, random_state=42)"
      ],
      "execution_count": 0,
      "outputs": []
    },
    {
      "cell_type": "code",
      "metadata": {
        "id": "8TQc313Ix_dJ",
        "colab_type": "code",
        "colab": {}
      },
      "source": [
        "# create dummy variables (with prefixes)\n",
        "pd.get_dummies(df, prefix=['col1', 'col2'])"
      ],
      "execution_count": 0,
      "outputs": []
    },
    {
      "cell_type": "code",
      "metadata": {
        "id": "TlDEEa5Bu4Sv",
        "colab_type": "code",
        "colab": {}
      },
      "source": [
        "# How to standardize data\n",
        "from sklearn.preprocessing import StandardScaler\n",
        "X = train.values\n",
        "X_std = StandardScaler().fit_transform(X)"
      ],
      "execution_count": 0,
      "outputs": []
    },
    {
      "cell_type": "code",
      "metadata": {
        "id": "Ar3VSkXru98K",
        "colab_type": "code",
        "colab": {}
      },
      "source": [
        "# Calculating Eigenvectors and eigenvalues of Cov matirx\n",
        "mean_vec = np.mean(X_std, axis=0)\n",
        "cov_mat = np.cov(X_std.T)\n",
        "eig_vals, eig_vecs = np.linalg.eig(cov_mat)\n",
        "# Create a list of (eigenvalue, eigenvector) tuples\n",
        "eig_pairs = [ (np.abs(eig_vals[i]),eig_vecs[:,i]) for i in range(len(eig_vals))]"
      ],
      "execution_count": 0,
      "outputs": []
    },
    {
      "cell_type": "code",
      "metadata": {
        "id": "DNpw1bb5vDJP",
        "colab_type": "code",
        "colab": {}
      },
      "source": [
        "# Lemmatization with vectorization in sklearn\n",
        "lemm = WordNetLemmatizer()\n",
        "class LemmaCountVectorizer(CountVectorizer):\n",
        "    def build_analyzer(self):\n",
        "        analyzer = super(LemmaCountVectorizer, self).build_analyzer()\n",
        "        return lambda doc: (lemm.lemmatize(w) for w in analyzer(doc))\n",
        "# Storing the entire training text in a list\n",
        "text = list(train.text.values)\n",
        "# Calling our overwritten Count vectorizer\n",
        "tf_vectorizer = LemmaCountVectorizer(max_df=0.95, \n",
        "                                     min_df=2,\n",
        "                                     stop_words='english',\n",
        "                                     decode_error='ignore')\n",
        "tf = tf_vectorizer.fit_transform(text)"
      ],
      "execution_count": 0,
      "outputs": []
    },
    {
      "cell_type": "code",
      "metadata": {
        "id": "7akOL3RUvdNz",
        "colab_type": "code",
        "colab": {}
      },
      "source": [
        "# How to make a wordcloud with stopwords removed\n",
        "firstcloud = WordCloud(\n",
        "                          stopwords=STOPWORDS,\n",
        "                          background_color='black',\n",
        "                          width=2500,\n",
        "                          height=1800\n",
        "                         ).generate(\" \".join(first_topic_words))\n",
        "plt.imshow(firstcloud)\n",
        "plt.axis('off')\n",
        "plt.show()"
      ],
      "execution_count": 0,
      "outputs": []
    },
    {
      "cell_type": "code",
      "metadata": {
        "id": "vssuSeKLv1Yh",
        "colab_type": "code",
        "colab": {}
      },
      "source": [
        "# Linear/Ridge/Lasso regressions\n",
        "from sklearn.linear_model import LinearRegression\n",
        "from sklearn.linear_model import Ridge\n",
        "from sklearn.linear_model import Lasso\n",
        "\n",
        "lr = LinearRegression()\n",
        "linreg = lr.fit(train2_lite, trainy_lite)\n",
        "predsLR = linreg.predict(train2_test)>0.32\n",
        "print(sklearn.metrics.f1_score(trainy_test, predsLR))\n",
        "print(sklearn.metrics.accuracy_score(trainy_test, predsLR))\n",
        "\n",
        "rr = Ridge(alpha=0.000001, normalize=True)\n",
        "ridge = rr.fit(train2_lite, trainy_lite)\n",
        "predsR = ridge.predict(train2_test)>0.32\n",
        "print(sklearn.metrics.f1_score(trainy_test, predsR))\n",
        "print(sklearn.metrics.accuracy_score(trainy_test, predsR))\n",
        "\n",
        "lasso = Lasso(alpha=0.00000000001, normalize=True)\n",
        "lass = lasso.fit(train2_lite, trainy_lite)\n",
        "predsLass = lass.predict(train2_test)>0.32\n",
        "print(sklearn.metrics.f1_score(trainy_test, predsLass))\n",
        "print(sklearn.metrics.accuracy_score(trainy_test, predsLass))"
      ],
      "execution_count": 0,
      "outputs": []
    },
    {
      "cell_type": "code",
      "metadata": {
        "id": "lSSRdH3Ywnjd",
        "colab_type": "code",
        "colab": {}
      },
      "source": [
        "# Logistic Regression\n",
        "from sklearn.linear_model import LogisticRegression\n",
        "logis = LogisticRegression(solver='liblinear',fit_intercept=True)\n",
        "\n",
        "logis_test = logis.fit(train2_lite, trainy_lite)\n",
        "preds = logis_test.predict(train2_test)\n",
        "print(sklearn.metrics.f1_score(trainy_test, preds))\n",
        "print(sklearn.metrics.accuracy_score(trainy_test, preds))"
      ],
      "execution_count": 0,
      "outputs": []
    },
    {
      "cell_type": "code",
      "metadata": {
        "id": "FgkIl6WTw6f1",
        "colab_type": "code",
        "colab": {}
      },
      "source": [
        "# Decision tree/random forest\n",
        "from sklearn.tree import DecisionTreeClassifier\n",
        "from sklearn.ensemble import RandomForestClassifier\n",
        "\n",
        "tree = DecisionTreeClassifier()\n",
        "treeD = tree.fit(train2_lite, trainy_lite)\n",
        "predsTD = treeD.predict(train2_test)\n",
        "print(sklearn.metrics.f1_score(trainy_test, predsTD))\n",
        "print(sklearn.metrics.accuracy_score(trainy_test, predsTD))\n",
        "\n",
        "forest = RandomForestClassifier(criterion = 'entropy')\n",
        "forestR = forest.fit(train2_lite, trainy_lite)\n",
        "predsF = forestR.predict(train2_test)\n",
        "print(sklearn.metrics.f1_score(trainy_test, predsF))\n",
        "print(sklearn.metrics.accuracy_score(trainy_test, predsF))"
      ],
      "execution_count": 0,
      "outputs": []
    },
    {
      "cell_type": "code",
      "metadata": {
        "id": "7izDIc9Nw_65",
        "colab_type": "code",
        "colab": {}
      },
      "source": [
        "# SVM\n",
        "from sklearn.svm import SVC\n",
        "from sklearn.linear_model import  LogisticRegression\n",
        "classifier = SVC(kernel=\"linear\")\n",
        "svm = classifier.fit(trainT_lite, trainy_lite)\n",
        "predsSVM = svm.predict(trainT_test)\n",
        "print(sklearn.metrics.f1_score(trainy_test, predsSVM))\n",
        "print(sklearn.metrics.accuracy_score(trainy_test, predsSVM))"
      ],
      "execution_count": 0,
      "outputs": []
    },
    {
      "cell_type": "code",
      "metadata": {
        "id": "hqY0XuXpxcOy",
        "colab_type": "code",
        "colab": {}
      },
      "source": [
        "# knn\n",
        "from sklearn.neighbors import KNeighborsClassifier \n",
        "knn = KNeighborsClassifier()\n",
        "knn.fit(trainT_lite, trainy_lite)\n",
        "predKNN = knn.predict(trainT_test)\n",
        "print(sklearn.metrics.f1_score(trainy_test, predKNN))\n",
        "print(sklearn.metrics.accuracy_score(trainy_test, predKNN))"
      ],
      "execution_count": 0,
      "outputs": []
    }
  ]
}